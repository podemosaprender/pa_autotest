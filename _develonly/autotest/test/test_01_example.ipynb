{
 "cells": [
  {
   "cell_type": "code",
   "execution_count": null,
   "id": "c17a41c7-9119-4283-b1a9-eed6b24e4bc9",
   "metadata": {},
   "outputs": [],
   "source": [
    "from cfg import * #U: set defaults here"
   ]
  },
  {
   "cell_type": "code",
   "execution_count": null,
   "id": "afbb9618-889a-40ce-8858-0b84bf8a1b62",
   "metadata": {},
   "outputs": [],
   "source": [
    "if args.get('MAIN'):\n",
    "\tset_show_after(True) #U: NEVER save with images!\n"
   ]
  },
  {
   "cell_type": "code",
   "execution_count": null,
   "id": "e79a8b37-5bc1-4f82-8083-b4e64c1f45b2",
   "metadata": {},
   "outputs": [],
   "source": [
    "navTo() #A: nav to home, screenshot should appear below"
   ]
  },
  {
   "cell_type": "code",
   "execution_count": null,
   "id": "36e29c2a-a504-4e21-92d2-e7d796414afc",
   "metadata": {},
   "outputs": [],
   "source": [
    "write('Buscar productos, marcas y más…','sillon 3 cuerpos\\n')"
   ]
  },
  {
   "cell_type": "code",
   "execution_count": null,
   "id": "f556405f-8114-4a80-8438-ba395a7d72f1",
   "metadata": {},
   "outputs": [],
   "source": [
    "if find('Confirmar código postal'):\n",
    "    click('Más tarde')"
   ]
  },
  {
   "cell_type": "code",
   "execution_count": null,
   "id": "b925dad4-3155-46ca-939b-21083a6d38dd",
   "metadata": {},
   "outputs": [],
   "source": [
    "click('Nuevo')"
   ]
  },
  {
   "cell_type": "code",
   "execution_count": null,
   "id": "051cf73f-c277-43c2-8595-ad4fa34b658c",
   "metadata": {},
   "outputs": [],
   "source": [
    "click('Más relevantes')"
   ]
  },
  {
   "cell_type": "code",
   "execution_count": null,
   "id": "a1fe0f16-4933-487a-ad15-dd65289693e8",
   "metadata": {},
   "outputs": [],
   "source": [
    "click('Menor precio')"
   ]
  },
  {
   "cell_type": "code",
   "execution_count": null,
   "id": "852ce9ba-0b47-418c-8cdc-af246a0a98eb",
   "metadata": {},
   "outputs": [],
   "source": [
    "results_el= find('.ui-search-layout')\n",
    "results_html= html(results_el)\n",
    "# results_html #U: show output"
   ]
  },
  {
   "cell_type": "code",
   "execution_count": null,
   "id": "3ea3fff9-9705-45bb-8328-9e863eb8646e",
   "metadata": {},
   "outputs": [],
   "source": [
    "result_links= re.findall(r'href=\"(http[^\"]+)\"',results_html)"
   ]
  },
  {
   "cell_type": "code",
   "execution_count": null,
   "id": "1e2cd7fb-7cd4-4e16-aed7-2d5d34aaf298",
   "metadata": {},
   "outputs": [],
   "source": [
    "if args.get('MAIN'):\n",
    "\tset_show_after(False) #U: STOP images to make it faster"
   ]
  },
  {
   "cell_type": "code",
   "execution_count": null,
   "id": "978a3ced-e7c2-4638-ac5e-6f9f706ed74a",
   "metadata": {},
   "outputs": [],
   "source": [
    "for li in result_links:\n",
    "    print(f\"## LINK {li}\")\n",
    "    navTo(li)\n",
    "    data_el= find('.ui-pdp-header',path='../..')\n",
    "    s= html(data_el)\n",
    "    if not '3 cuerpos' in s.lower():\n",
    "        print(\"NO DICE 3 cuerpos\")\n",
    "    else:\n",
    "        print(data_el.text)\n",
    "    "
   ]
  }
 ],
 "metadata": {
  "kernelspec": {
   "display_name": "Python 3 (ipykernel)",
   "language": "python",
   "name": "python3"
  },
  "language_info": {
   "codemirror_mode": {
    "name": "ipython",
    "version": 3
   },
   "file_extension": ".py",
   "mimetype": "text/x-python",
   "name": "python",
   "nbconvert_exporter": "python",
   "pygments_lexer": "ipython3",
   "version": "3.11.2"
  }
 },
 "nbformat": 4,
 "nbformat_minor": 5
}