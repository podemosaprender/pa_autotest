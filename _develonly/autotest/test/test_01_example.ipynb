{
 "cells": [
  {
   "cell_type": "code",
   "execution_count": null,
   "id": "c17a41c7-9119-4283-b1a9-eed6b24e4bc9",
   "metadata": {},
   "outputs": [],
   "source": [
    "from cfg import * #U: set defaults here"
   ]
  },
  {
   "cell_type": "code",
   "execution_count": null,
   "id": "afbb9618-889a-40ce-8858-0b84bf8a1b62",
   "metadata": {},
   "outputs": [],
   "source": [
    "if args.get('MAIN'):\n",
    "\tset_show_after(True) #U: NEVER save with images!\n",
   ]
  },
  {
   "cell_type": "code",
   "execution_count": null,
   "id": "a3aad371-0f78-438e-bf50-e97e69354596",
   "metadata": {},
   "outputs": [],
   "source": [
    "#TODO\n",
   ]
  }
 ],
 "metadata": {
  "kernelspec": {
   "display_name": "Python 3 (ipykernel)",
   "language": "python",
   "name": "python3"
  },
  "language_info": {
   "codemirror_mode": {
    "name": "ipython",
    "version": 3
   },
   "file_extension": ".py",
   "mimetype": "text/x-python",
   "name": "python",
   "nbconvert_exporter": "python",
   "pygments_lexer": "ipython3",
   "version": "3.11.2"
  }
 },
 "nbformat": 4,
 "nbformat_minor": 5
}
